{
  "nbformat": 4,
  "nbformat_minor": 0,
  "metadata": {
    "colab": {
      "name": "TimeSeries.ipynb",
      "provenance": [],
      "authorship_tag": "ABX9TyOdVUFqS7Oc6Ckg0BYF/4no"
    },
    "kernelspec": {
      "name": "python3",
      "display_name": "Python 3"
    },
    "language_info": {
      "name": "python"
    }
  },
  "cells": [
    {
      "cell_type": "markdown",
      "metadata": {
        "id": "EPGm9yP9uovQ"
      },
      "source": [
        "# Preface"
      ]
    },
    {
      "cell_type": "markdown",
      "metadata": {
        "id": "3mlXQ7mUuvQv"
      },
      "source": [
        "Starts with examples of things that form time series, like weather, stock markets and heartbeats.\n",
        "\n",
        "Reminds us of the future of IoT and the amount of sensors and gadgets available for high-quality time series data\n",
        "\n",
        "Expects a introductory statistics background\n",
        "\n",
        "There are at least two youtube 3h long scipy talks with the author on the subject\n",
        "\n",
        "https://www.youtube.com/watch?v=JNfxr4BQrLk\n",
        "\n",
        "https://www.youtube.com/watch?v=v5ijNXvlC5A&t=1s\n",
        "\n",
        "book errata\n",
        "https://www.oreilly.com/catalog/errata.csp?isbn=0636920187714\n",
        "\n",
        "github repo\n",
        "https://github.com/PracticalTimeSeriesAnalysis/BookRepo"
      ]
    },
    {
      "cell_type": "markdown",
      "metadata": {
        "id": "lCmMTWgdvaJr"
      },
      "source": [
        "# Chapter 1 Time Series: Overview and Quick History"
      ]
    },
    {
      "cell_type": "markdown",
      "metadata": {
        "id": "OD7nLu2EvkCw"
      },
      "source": [
        "Time series: Data in choronological order\n",
        "\n",
        "Time series analysis: Diagnose the past and predict the future\n",
        "\n",
        "Medical field examples:\n",
        "\n",
        "electrocardiograms - records electrig signals passing thru the heart\n",
        "electroencephalogram - measures eletrical impulses in the brain\n",
        "\n",
        "examples of time series in weather:\n",
        "\n",
        "barometer - taking meassurements of the state of the atmosphere at regular invervals\n",
        "\n",
        "examples of time series in bussiness:\n",
        "\n",
        "forecasting demand, estimaging future raw materials prices, hedging on manufacturing costs\n",
        "\n",
        "examples of modern machine learning related to time-series:\n",
        "\n",
        "computer security, anomaly detection as a method for getting hackers and invader dynamic time warping, a way of checking similarity of time series\n",
        "recursive neural networks show usefulness for extracting patterns in corrupted data"
      ]
    },
    {
      "cell_type": "markdown",
      "metadata": {
        "id": "O0agz-oYwRb-"
      },
      "source": [
        "# Chapter 2 All About The Data"
      ]
    },
    {
      "cell_type": "markdown",
      "metadata": {
        "id": "eBAlDhguwbs2"
      },
      "source": [
        "problems related to preprocessing time serries data\n",
        "\n",
        "-finding time series online\n",
        "Kaggle!\n",
        "UCI Machine Learning Repository\n",
        "UEA and UCR Time Series Classification Repository\n",
        "NOAA National Centers for Enviromental Information\n",
        "Bureau of Labor Statiscs\n",
        "Centers for Disease Control and Prevention\n",
        "Federal Reserve Bank of St Louis\n",
        "CompEngine\n",
        "Mcomop and M4comp2018 R Packages\n",
        "CRAN Repository\n",
        "\n",
        "*time series can be related to anything related that is sorted in time, such as the spectrum of a wine, with the wavelenghts evenly spaced on the x-axis\n",
        "\n",
        "*does this mean that using Fourier we can transform things in the frequency domain, to time domain and its somehow related?\n",
        "\n",
        "*data usually must be assembled from a collection of data\n",
        "\n",
        "Lookahead: time series information that was unknown when designing, traning or evalutating a model. This can and will screw things up. There's no test for it, something one must be vigilant and thoughtful.\n",
        "\n",
        "When counting information, remember to put back the data you removed, aquelas coisas relacionadas a calular incluindo os extremos\n",
        "\n"
      ]
    },
    {
      "cell_type": "code",
      "metadata": {
        "colab": {
          "base_uri": "https://localhost:8080/"
        },
        "id": "JBgFrjjMx2o_",
        "outputId": "48e8f4a6-c5c5-486f-9801-e567fae292e3"
      },
      "source": [
        "#table 2-1 https://raw.githubusercontent.com/johnnybigoode/BookRepo/master/Ch02/data/year_joined.csv\n",
        "#table 2-2 https://raw.githubusercontent.com/johnnybigoode/BookRepo/master/Ch02/data/emails.csv\n",
        "#table 2-3 https://raw.githubusercontent.com/johnnybigoode/BookRepo/master/Ch02/data/donations.csv\n",
        "\n",
        "import pandas as pd\n",
        "\n",
        "YearJoined = pd.read_csv(\n",
        "    \"https://raw.githubusercontent.com/johnnybigoode/BookRepo/master/Ch02/data/year_joined.csv\") \n",
        "print(YearJoined.head())\n",
        "\n",
        "Emails = pd.read_csv(\"https://raw.githubusercontent.com/johnnybigoode/BookRepo/master/Ch02/data/emails.csv\")\n",
        "print(Emails.head())\n",
        "\n",
        "Donations = pd.read_csv(\"https://raw.githubusercontent.com/johnnybigoode/BookRepo/master/Ch02/data/donations.csv\")\n",
        "print(Donations.head())"
      ],
      "execution_count": 31,
      "outputs": [
        {
          "output_type": "stream",
          "name": "stdout",
          "text": [
            "   user userStats  yearJoined\n",
            "0     0    silver        2014\n",
            "1     1    silver        2015\n",
            "2     2    silver        2016\n",
            "3     3    bronze        2018\n",
            "4     4    silver        2018\n",
            "   emailsOpened  user                 week\n",
            "0           3.0   1.0  2015-06-29 00:00:00\n",
            "1           2.0   1.0  2015-07-13 00:00:00\n",
            "2           2.0   1.0  2015-07-20 00:00:00\n",
            "3           3.0   1.0  2015-07-27 00:00:00\n",
            "4           1.0   1.0  2015-08-03 00:00:00\n",
            "   amount            timestamp  user\n",
            "0    25.0  2017-11-12 11:13:44   0.0\n",
            "1    50.0  2015-08-25 19:01:45   0.0\n",
            "2    25.0  2015-03-26 12:03:47   0.0\n",
            "3    50.0  2016-07-06 12:24:55   0.0\n",
            "4    50.0  2016-05-11 18:13:04   1.0\n"
          ]
        }
      ]
    },
    {
      "cell_type": "code",
      "metadata": {
        "colab": {
          "base_uri": "https://localhost:8080/",
          "height": 204
        },
        "id": "B3XlyoHSWIIF",
        "outputId": "8c91d76d-677c-4c5a-9c9a-efc928f9327e"
      },
      "source": [
        "#groupby example on dataframe\n",
        "YearJoined.groupby('userStats').count()"
      ],
      "execution_count": 7,
      "outputs": [
        {
          "output_type": "execute_result",
          "data": {
            "text/html": [
              "<div>\n",
              "<style scoped>\n",
              "    .dataframe tbody tr th:only-of-type {\n",
              "        vertical-align: middle;\n",
              "    }\n",
              "\n",
              "    .dataframe tbody tr th {\n",
              "        vertical-align: top;\n",
              "    }\n",
              "\n",
              "    .dataframe thead th {\n",
              "        text-align: right;\n",
              "    }\n",
              "</style>\n",
              "<table border=\"1\" class=\"dataframe\">\n",
              "  <thead>\n",
              "    <tr style=\"text-align: right;\">\n",
              "      <th></th>\n",
              "      <th>user</th>\n",
              "      <th>yearJoined</th>\n",
              "    </tr>\n",
              "    <tr>\n",
              "      <th>userStats</th>\n",
              "      <th></th>\n",
              "      <th></th>\n",
              "    </tr>\n",
              "  </thead>\n",
              "  <tbody>\n",
              "    <tr>\n",
              "      <th>bronze</th>\n",
              "      <td>486</td>\n",
              "      <td>486</td>\n",
              "    </tr>\n",
              "    <tr>\n",
              "      <th>gold</th>\n",
              "      <td>95</td>\n",
              "      <td>95</td>\n",
              "    </tr>\n",
              "    <tr>\n",
              "      <th>inactive</th>\n",
              "      <td>96</td>\n",
              "      <td>96</td>\n",
              "    </tr>\n",
              "    <tr>\n",
              "      <th>silver</th>\n",
              "      <td>323</td>\n",
              "      <td>323</td>\n",
              "    </tr>\n",
              "  </tbody>\n",
              "</table>\n",
              "</div>"
            ],
            "text/plain": [
              "           user  yearJoined\n",
              "userStats                  \n",
              "bronze      486         486\n",
              "gold         95          95\n",
              "inactive     96          96\n",
              "silver      323         323"
            ]
          },
          "metadata": {},
          "execution_count": 7
        }
      ]
    },
    {
      "cell_type": "code",
      "metadata": {
        "colab": {
          "base_uri": "https://localhost:8080/",
          "height": 49
        },
        "id": "soRih2J-WpME",
        "outputId": "9383e293-116f-499d-b8f5-74b814319e3d"
      },
      "source": [
        "Emails[Emails.emailsOpened < 1]"
      ],
      "execution_count": 8,
      "outputs": [
        {
          "output_type": "execute_result",
          "data": {
            "text/html": [
              "<div>\n",
              "<style scoped>\n",
              "    .dataframe tbody tr th:only-of-type {\n",
              "        vertical-align: middle;\n",
              "    }\n",
              "\n",
              "    .dataframe tbody tr th {\n",
              "        vertical-align: top;\n",
              "    }\n",
              "\n",
              "    .dataframe thead th {\n",
              "        text-align: right;\n",
              "    }\n",
              "</style>\n",
              "<table border=\"1\" class=\"dataframe\">\n",
              "  <thead>\n",
              "    <tr style=\"text-align: right;\">\n",
              "      <th></th>\n",
              "      <th>emailsOpened</th>\n",
              "      <th>user</th>\n",
              "      <th>week</th>\n",
              "    </tr>\n",
              "  </thead>\n",
              "  <tbody>\n",
              "  </tbody>\n",
              "</table>\n",
              "</div>"
            ],
            "text/plain": [
              "Empty DataFrame\n",
              "Columns: [emailsOpened, user, week]\n",
              "Index: []"
            ]
          },
          "metadata": {},
          "execution_count": 8
        }
      ]
    },
    {
      "cell_type": "code",
      "metadata": {
        "colab": {
          "base_uri": "https://localhost:8080/",
          "height": 204
        },
        "id": "s9_l9r_gW1IF",
        "outputId": "1e516f22-04a9-4208-ad86-dde43cfa8bfc"
      },
      "source": [
        "Emails[Emails.user == 998].head()"
      ],
      "execution_count": 25,
      "outputs": [
        {
          "output_type": "execute_result",
          "data": {
            "text/html": [
              "<div>\n",
              "<style scoped>\n",
              "    .dataframe tbody tr th:only-of-type {\n",
              "        vertical-align: middle;\n",
              "    }\n",
              "\n",
              "    .dataframe tbody tr th {\n",
              "        vertical-align: top;\n",
              "    }\n",
              "\n",
              "    .dataframe thead th {\n",
              "        text-align: right;\n",
              "    }\n",
              "</style>\n",
              "<table border=\"1\" class=\"dataframe\">\n",
              "  <thead>\n",
              "    <tr style=\"text-align: right;\">\n",
              "      <th></th>\n",
              "      <th>emailsOpened</th>\n",
              "      <th>user</th>\n",
              "      <th>week</th>\n",
              "    </tr>\n",
              "  </thead>\n",
              "  <tbody>\n",
              "    <tr>\n",
              "      <th>25464</th>\n",
              "      <td>1.0</td>\n",
              "      <td>998.0</td>\n",
              "      <td>2017-12-04 00:00:00</td>\n",
              "    </tr>\n",
              "    <tr>\n",
              "      <th>25465</th>\n",
              "      <td>3.0</td>\n",
              "      <td>998.0</td>\n",
              "      <td>2017-12-11 00:00:00</td>\n",
              "    </tr>\n",
              "    <tr>\n",
              "      <th>25466</th>\n",
              "      <td>3.0</td>\n",
              "      <td>998.0</td>\n",
              "      <td>2017-12-18 00:00:00</td>\n",
              "    </tr>\n",
              "    <tr>\n",
              "      <th>25467</th>\n",
              "      <td>3.0</td>\n",
              "      <td>998.0</td>\n",
              "      <td>2018-01-01 00:00:00</td>\n",
              "    </tr>\n",
              "    <tr>\n",
              "      <th>25468</th>\n",
              "      <td>3.0</td>\n",
              "      <td>998.0</td>\n",
              "      <td>2018-01-08 00:00:00</td>\n",
              "    </tr>\n",
              "  </tbody>\n",
              "</table>\n",
              "</div>"
            ],
            "text/plain": [
              "       emailsOpened   user                 week\n",
              "25464           1.0  998.0  2017-12-04 00:00:00\n",
              "25465           3.0  998.0  2017-12-11 00:00:00\n",
              "25466           3.0  998.0  2017-12-18 00:00:00\n",
              "25467           3.0  998.0  2018-01-01 00:00:00\n",
              "25468           3.0  998.0  2018-01-08 00:00:00"
            ]
          },
          "metadata": {},
          "execution_count": 25
        }
      ]
    },
    {
      "cell_type": "code",
      "metadata": {
        "colab": {
          "base_uri": "https://localhost:8080/"
        },
        "id": "mTRGST8YW8R7",
        "outputId": "4727c944-0529-470d-aeea-983a7fcd4dd3"
      },
      "source": [
        "#how many weekly observations betewenn first and last members\n",
        "#convert week to timestamp\n",
        "Emails.week = pd.to_datetime(Emails.week)\n",
        "\n",
        "maxdate = max(Emails[Emails.user == 998].week)\n",
        "mindate = min(Emails[Emails.user == 998].week)\n",
        "\n",
        "print((maxdate - mindate).days/7)"
      ],
      "execution_count": 33,
      "outputs": [
        {
          "output_type": "stream",
          "name": "stdout",
          "text": [
            "25.0\n"
          ]
        }
      ]
    },
    {
      "cell_type": "code",
      "metadata": {
        "colab": {
          "base_uri": "https://localhost:8080/"
        },
        "id": "wnV8WF-qY7V8",
        "outputId": "31d5f6df-d916-405c-a6c0-b6c0b8bfba00"
      },
      "source": [
        "#how many weeks of data\n",
        "#notice we should have 26\n",
        "Emails[Emails.user == 998].shape"
      ],
      "execution_count": 34,
      "outputs": [
        {
          "output_type": "execute_result",
          "data": {
            "text/plain": [
              "(24, 3)"
            ]
          },
          "metadata": {},
          "execution_count": 34
        }
      ]
    },
    {
      "cell_type": "markdown",
      "metadata": {
        "id": "qYQhQLvOZHqs"
      },
      "source": [
        "# Why 26 Rows?\n",
        "\n",
        "When doing time subtraction you should ask: should i add 1 to account for the offset at the end?\n",
        "\n",
        "Example\n",
        "\n",
        "I got info for 7, 14, 21 and 28\n",
        "How many points do I have in total?\n",
        "\n",
        "28-7 / 7 = 21/7 = 3\n",
        "\n",
        "But we obviously have 4 points, so we need to add 1 to account for the subtracted start date\n",
        "\n",
        "Then again, 28/7 = 4, why did u subtract in the first place?"
      ]
    },
    {
      "cell_type": "markdown",
      "metadata": {
        "id": "S1Mb27dDx1TP"
      },
      "source": [
        "RECAPING SOME TECHNIQUES\n",
        "from worked example pg 27-35\n",
        "\n",
        "1. recalibrate data resolution. data might come daily, but we only need weekly.\n",
        "\n",
        "2. avoid lookahead by NOT using data for timestamps that produces data availability???\n",
        "\n",
        "3. record all relevant time periods even if nothing happened. a zero count is as important as any other\n",
        "\n",
        "4. avoid lookahead by NOT using data for timestamps that produce information we shiouldn't know yet about\n",
        "\n",
        "Timestamps are specially tricky to work with due to their complexity. It is important to understand what a ts means. Is it when the event happened? Or was it when it was recorded into a table? Maybe it was when the user logged into the system? Or when the data migrated tables. If you can, reading the code that generated the data might help, even better would be talking to those who wrote the code, and in a perfect world, documentation that correctly reflects code. \n",
        "\n",
        "In most cases, we'll have to do some imperical research.\n",
        "\n",
        "Analyse a single user's tss and then expand to other users. Always consider that the ts might be the user's localtime, meaning, you can notice usage behavior to be directly correlated to choronology.\n",
        "\n",
        "You can also subtract the previous entry ts from the current and look for zeroes. Several entries on the same ts indicate a server behavior.\n",
        "\n",
        "Psychological Time Discounting / Psychological distance. People are more optimistic when estimating things in the distant future\n",
        "\n",
        "Cleaning data basics:\n",
        "\n",
        "-missing data\n",
        "\timputation, fill in missing data based on the whole database\n",
        "\titerpolation, use near points to predict missing values \n",
        "\tdeletion of affected time periods, ignore time periods we don't have data\n",
        "\n",
        "R data.table has a rolling join that seems to be amazing the joining on timestamps and a zoo package that has a bunch of timeseries related functions\n",
        "\n",
        "foward fill makes more sense even if fancier methods are possible, think about what the missing data could be\n",
        "\n",
        "take notice when using moving averages and using mean deviations when inerpolating because lookaheads\n",
        "\n",
        "-upsampling and downsampling\n",
        "\tselect output every nth element\n",
        "\tto focus on seasons, pick a single month every year, or a single day every week\n",
        "\tin irregular time series, rolling join\n",
        "\t\n",
        "-smoothing\n",
        "\twhy tho?\n",
        "\tdata preparation\n",
        "\tfeature generation\n",
        "\tprediction\n",
        "\tvisualization\n",
        "\t\n",
        "it's important to check outcomes affected by smoothing\n",
        "\n",
        "using exponential smoothing (and averages on this matter) gives more weight to recent data vs old data\n",
        ">check more resources on page 69\n",
        "\n",
        "pandas function ewma for exponential smoothing\n",
        "\n",
        "smoothing is so comon that you should use it as a easy null model when testing against fancier methods\n",
        "\n",
        "starting smoothing calculations may be problematic, if you think about two points, a exponential operation would consider the first point to be the sum of knowledge of what came before\n",
        "\n",
        ">Seasonal Data\n",
        "\n",
        "to see seasonal data, a different plot might help.\n",
        "\n",
        "pg62 shows a single line of R to decompose components: seasonal, trend, remainder\n",
        "\n",
        "documentation available at\n",
        "\n",
        "https://www.rdocumentation.org/packages/stats/versions/3.6.2/topics/stl\n",
        "\n",
        "TIMEZONES: everyone hates them\n",
        "pickling timezone objects is problematic \n",
        "why? bloggers mentioned it\n",
        "\n",
        "PREVENTING LOOKAHEAD\n",
        "\n",
        "-when smoothing data, experiment\n",
        "-build everything on small data and introduce random spot checks\n",
        "-for each kind of data, check what the timestamps relate to\n",
        "-use rolling testing or cross validation, RANDOMIZING TRAINING VERSUS TESTING DATA DOES NOT WORK WITH TIME SERIES\n",
        "-intentionally introduce lookahead, if you know a model's accuracy with lookahead, it's easier to set a maximum for the model ur building\n",
        "-add features slowly, any jump in acc should be explaned by lookahead\n",
        "\n",
        ">Review of functional data\n",
        "analysis / https://perma.cc/3DNT-J9EZ"
      ]
    },
    {
      "cell_type": "markdown",
      "metadata": {
        "id": "33DocB8ewuY9"
      },
      "source": [
        ""
      ]
    }
  ]
}