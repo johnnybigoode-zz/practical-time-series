{
  "nbformat": 4,
  "nbformat_minor": 0,
  "metadata": {
    "colab": {
      "name": "TimeSeries.ipynb",
      "provenance": [],
      "authorship_tag": "ABX9TyOcjUPcb0tGyI5xxy3W3Eyq",
      "include_colab_link": true
    },
    "kernelspec": {
      "name": "python3",
      "display_name": "Python 3"
    },
    "language_info": {
      "name": "python"
    }
  },
  "cells": [
    {
      "cell_type": "markdown",
      "metadata": {
        "id": "view-in-github",
        "colab_type": "text"
      },
      "source": [
        "<a href=\"https://colab.research.google.com/github/johnnybigoode/practical-time-series/blob/main/TimeSeries.ipynb\" target=\"_parent\"><img src=\"https://colab.research.google.com/assets/colab-badge.svg\" alt=\"Open In Colab\"/></a>"
      ]
    },
    {
      "cell_type": "markdown",
      "metadata": {
        "id": "EPGm9yP9uovQ"
      },
      "source": [
        "# Preface"
      ]
    },
    {
      "cell_type": "markdown",
      "metadata": {
        "id": "3mlXQ7mUuvQv"
      },
      "source": [
        "Starts with examples of things that form time series, like weather, stock markets and heartbeats.\n",
        "\n",
        "Reminds us of the future of IoT and the amount of sensors and gadgets available for high-quality time series data\n",
        "\n",
        "Expects a introductory statistics background\n",
        "\n",
        "There are at least two youtube 3h long scipy talks with the author on the subject\n",
        "\n",
        "https://www.youtube.com/watch?v=JNfxr4BQrLk\n",
        "\n",
        "https://www.youtube.com/watch?v=v5ijNXvlC5A&t=1s\n",
        "\n",
        "book errata\n",
        "https://www.oreilly.com/catalog/errata.csp?isbn=0636920187714\n",
        "\n",
        "github repo\n",
        "https://github.com/PracticalTimeSeriesAnalysis/BookRepo"
      ]
    },
    {
      "cell_type": "markdown",
      "metadata": {
        "id": "lCmMTWgdvaJr"
      },
      "source": [
        "# Chapter 1 Time Series: Overview and Quick History"
      ]
    },
    {
      "cell_type": "markdown",
      "metadata": {
        "id": "OD7nLu2EvkCw"
      },
      "source": [
        "Time series: Data in choronological order\n",
        "\n",
        "Time series analysis: Diagnose the past and predict the future\n",
        "\n",
        "Medical field examples:\n",
        "\n",
        "electrocardiograms - records electrig signals passing thru the heart\n",
        "electroencephalogram - measures eletrical impulses in the brain\n",
        "\n",
        "examples of time series in weather:\n",
        "\n",
        "barometer - taking meassurements of the state of the atmosphere at regular invervals\n",
        "\n",
        "examples of time series in bussiness:\n",
        "\n",
        "forecasting demand, estimaging future raw materials prices, hedging on manufacturing costs\n",
        "\n",
        "examples of modern machine learning related to time-series:\n",
        "\n",
        "computer security, anomaly detection as a method for getting hackers and invader dynamic time warping, a way of checking similarity of time series\n",
        "recursive neural networks show usefulness for extracting patterns in corrupted data"
      ]
    },
    {
      "cell_type": "markdown",
      "metadata": {
        "id": "O0agz-oYwRb-"
      },
      "source": [
        ""
      ]
    }
  ]
}